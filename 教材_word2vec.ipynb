{
  "cells": [
    {
      "cell_type": "code",
      "execution_count": null,
      "metadata": {
        "cellView": "form",
        "id": "TJ5435LcL_ze"
      },
      "outputs": [],
      "source": [
        "#@title ライブラリーの利用\n",
        "!git clone https://github.com/Michi-123/whiteGPT"
      ]
    },
    {
      "cell_type": "markdown",
      "metadata": {
        "id": "GR13TdFnH7LJ"
      },
      "source": [
        "https://en.wikipedia.org/wiki/Word2vec"
      ]
    },
    {
      "cell_type": "code",
      "execution_count": 3,
      "metadata": {
        "cellView": "form",
        "id": "9I1HAQyk2IaY"
      },
      "outputs": [
        {
          "data": {
            "text/html": [
              "\n",
              "  <style>\n",
              "    pre {\n",
              "        white-space: pre-wrap;\n",
              "    }\n",
              "  </style>\n",
              "  "
            ],
            "text/plain": [
              "<IPython.core.display.HTML object>"
            ]
          },
          "metadata": {},
          "output_type": "display_data"
        }
      ],
      "source": [
        "#@title ライブラリーの読み込み\n",
        "import random\n",
        "import torch\n",
        "import torch.nn as nn\n",
        "import torch.optim as optim\n",
        "from whiteGPT import word2vec\n",
        "from whiteGPT import CBOW\n",
        "from whiteGPT import Vocab"
      ]
    },
    {
      "cell_type": "code",
      "execution_count": 4,
      "metadata": {
        "id": "cF62eOmUfzg_"
      },
      "outputs": [
        {
          "data": {
            "text/html": [
              "\n",
              "  <style>\n",
              "    pre {\n",
              "        white-space: pre-wrap;\n",
              "    }\n",
              "  </style>\n",
              "  "
            ],
            "text/plain": [
              "<IPython.core.display.HTML object>"
            ]
          },
          "metadata": {},
          "output_type": "display_data"
        }
      ],
      "source": [
        "# @title 学習用のテキストデータ\n",
        "corpus_list = [\"this animal is cat.\",\n",
        "    \"the quick brown fox jumps over the lazy dog.\",\n",
        "    \"dog and cat are animal.\",\n",
        "    \"I love dogs and cats.\",\n",
        "    \"the dog sat on the rug.\",\n",
        "    \"cats are independent animals. \",\n",
        "    \"foxes are wild animals.\",\n",
        "    \"The cat prowled through the moonlit garden.\",\n",
        "    \"Dogs eagerly awaited their owner's return at the doorstep.\",\n",
        "    \"A cat's purr filled the room with comfort.\",\n",
        "    \"The dog wagged its tail in excitement.\",\n",
        "    \"Cats gracefully leaped from rooftop to rooftop.\",\n",
        "\n",
        "    \"Walking down the street, I spotted a stray dog searching for scraps.\",\n",
        "    \"The cat stretched lazily in the warmth of the sunbeam.\",\n",
        "    \"Dogs barked joyfully in the park.\",\n",
        "    \"A sleek black cat slinked along the fence.\",\n",
        "    \"The old dog snoozed contentedly by the fireplace.\",\n",
        "    \"Cats darted through the alleyways, chasing shadows.\",\n",
        "    \"A fluffy white cat napped peacefully on the windowsill.\",\n",
        "\n",
        "    \"Dogs are furry friends who love to play fetch and cuddle with you.\",\n",
        "    \"Cats are soft and independent pets that enjoy lounging in sunny spots.\",\n",
        "    \"Dogs wag their tails when they're happy and bark to say hello.\",\n",
        "    \"Cats purr when they're content and love to curl up in your lap.\",\n",
        "\n",
        "    \"Fido loves going for car rides, he always sticks his head out the window with a goofy grin.\",\n",
        "    \"the old dog hobbled over to greet us, his tail thumping gently against the floor.\",\n",
        "    \"the cat perched regally on the windowsill, surveying its outdoor kingdom. \",\n",
        "    \"the cat stalked a dust bunny across the floor, pouncing with laser focus. \",\n",
        "    \"the neighbor's cat, notorious for its thievery, snuck into our yard and made off with a shiny red ball of yarn. \",\n",
        "    \"curled up with a good book, I felt a soft nudge – my cat, wanting some attention, was rubbing against my leg. \",\n",
        "    \"the therapy dog, with its gentle demeanor, brought a wave of calm to the anxious patients in the waiting room.\",\n",
        "    \"despite their different personalities, the dog and cat often napped curled up together. \",\n",
        "    \"we need to buy more cat food, Whiskers seems to be inhaling everything in the bow. \",\n",
        "    \"despite being a scaredy cat, Luna the ginger bravely explored every corner of the new house. \",\n",
        "    \"Max the dog spent all afternoon digging a hole in the backyard, much to the gardener's dismay. \",\n",
        "    \"the smell of freshly baked cookies lured the cat out from its hiding spot. \",\n",
        "    \"during thunderstorms, Milo the dog would huddle under the bed, trembling uncontrollably. \",\n",
        "    \"we adopted a pair of playful kittens, and now our living room is a whirlwind of fur and feathery toys. \",\n",
        "    \"every morning, the rooster crows and the dog barks, creating a chaotic symphony to wake up the household. \"\n",
        "]"
      ]
    },
    {
      "cell_type": "code",
      "execution_count": 5,
      "metadata": {
        "id": "wqu33m_WFtxb"
      },
      "outputs": [
        {
          "data": {
            "text/html": [
              "\n",
              "  <style>\n",
              "    pre {\n",
              "        white-space: pre-wrap;\n",
              "    }\n",
              "  </style>\n",
              "  "
            ],
            "text/plain": [
              "<IPython.core.display.HTML object>"
            ]
          },
          "metadata": {},
          "output_type": "display_data"
        }
      ],
      "source": [
        "# @title テスト用のテキストデータ\n",
        "test_corpus_list = [\"this animal is dog \",\n",
        "    \"the old cat hobbled \",\n",
        "    \"the dog perched regally \",\n",
        "    \"quick brown cat jumps \",\n",
        "    \"cat and dog often \",\n",
        "    \"the dog out from \",\n",
        "    \"Fido the cat would \",\n",
        "    \"Luna the cat spent \",\n",
        "    \"neighbor's dog \",\n",
        "    \"cat stalked a dust \",\n",
        "    \"buy more cat food\",\n",
        "    \"cat and the dog barks\",]"
      ]
    },
    {
      "cell_type": "markdown",
      "metadata": {
        "id": "2t8wyIIW2vhN"
      },
      "source": [
        "# CBOWモデルの学習"
      ]
    },
    {
      "cell_type": "code",
      "execution_count": 6,
      "metadata": {
        "cellView": "form",
        "id": "9xGDByxwa4cW"
      },
      "outputs": [
        {
          "data": {
            "text/html": [
              "\n",
              "  <style>\n",
              "    pre {\n",
              "        white-space: pre-wrap;\n",
              "    }\n",
              "  </style>\n",
              "  "
            ],
            "text/plain": [
              "<IPython.core.display.HTML object>"
            ]
          },
          "metadata": {},
          "output_type": "display_data"
        }
      ],
      "source": [
        "# @title ハイパー・パラメータの設定\n",
        "# @markdown 埋め込みの次元の数\n",
        "embedding_dim = 16 #@param{type:'integer'}\n",
        "# @markdown エポック数\n",
        "num_epoch = 300 #@param{type:'integer'}\n",
        "# @markdown 学習係数（学習率）\n",
        "learning_rate = 0.001 #@param{type:'number'}\n",
        "# @markdown 入力枠\n",
        "window_size = 3 #@param{type:'integer'}\n",
        "# word2vec.window_size = window_size"
      ]
    },
    {
      "cell_type": "code",
      "execution_count": null,
      "metadata": {
        "id": "b5Qdw9jWJK7y"
      },
      "outputs": [
        {
          "data": {
            "text/html": [
              "\n",
              "  <style>\n",
              "    pre {\n",
              "        white-space: pre-wrap;\n",
              "    }\n",
              "  </style>\n",
              "  "
            ],
            "text/plain": [
              "<IPython.core.display.HTML object>"
            ]
          },
          "metadata": {},
          "output_type": "display_data"
        }
      ],
      "source": [
        "# @title インスタンス化\n",
        "# 学習しやすいデータに加工します\n",
        "# pad = '<PAD>' * window_size\n",
        "# train_corpus = None.join(corpus_list)\n",
        "\n",
        "# トレインコーパスとは、学習用のテキストデータのこと\n",
        "train_corpus = word2vec.modify(corpus_list, window_size) # 追加コード\n",
        "\n",
        "# (バグ修正用の追加コード)\n",
        "# reは、正規表現を使うためのライブラリ\n",
        "# 正規表現は、文字列のパターンを指定して、文字列を検索したり置換したりするための機能\n",
        "# re.findallは、文字列から正規表現にマッチする部分を抽出する関数\n",
        "# r'\\w+|[^\\w\\s]'は、単語を抽出するための正規表現\n",
        "# \\wは、単語文字を表す。+は、1回以上の繰り返しを表す。|は、またはを表す。[^\\w\\s]は、単語文字と空白文字以外を表す\n",
        "# re.findall(r'\\w+|[^\\w\\s]', train_corpus)は、train_corpusから単語と空白文字以外を抽出する\n",
        "# train_corpus = ' '.join(train_corpus)は、train_corpusを単語と空白文字で区切る\n",
        "# 例えば、'this animal is cat.'は、'this', 'animal', 'is', 'cat', '.'に変換される\n",
        "# この処理は、テキストデータを単語と空白文字で区切るための処理\n",
        "import re\n",
        "train_corpus = train_corpus.lower()\n",
        "train_corpus = re.findall(r'\\w+|[^\\w\\s]', train_corpus)\n",
        "train_corpus = ' '.join(train_corpus)\n",
        "\n",
        "# Dataset\n",
        "vocab = Vocab(train_corpus)\n",
        "\n",
        "# TextDatasetは、テキストデータを学習しやすい形に変換するためのクラス\n",
        "# このクラスを使うことで、テキストデータを学習しやすい形に変換することができる\n",
        "train_dataset = word2vec.TextDataset(vocab, train_corpus, window_size)\n",
        "\n",
        "# バッチとは、学習するデータセットを分割したもの。バッチサイズは、その分割数を指定するもの。\n",
        "# 例えば、1000個のデータを10個ずつのバッチに分割する場合、バッチサイズは10になる。\n",
        "# DataLoaderは、データセットをバッチに分割してくれる機能を持っている。\n",
        "train_dataloader = word2vec.DataLoader(train_dataset, batch_size=4, shuffle=True)\n",
        "\n",
        "# 少ないコーパスで学習結果を検証するためで、次の処理でテストコーパスリストを与えて、テスト用のデータを加工させておく\n",
        "test_dataset = word2vec.TextDataset(vocab, '', window_size)\n",
        "\n",
        "# 検証しやすいデータを設定します\n",
        "test_dataset.test_corpus(test_corpus_list)\n",
        "\n",
        "# 損失関数の計算\n",
        "criterion = nn.CrossEntropyLoss()\n",
        "\n",
        "# モデルのインスタンス化\n",
        "# CBOWは、Continuous Bag of Wordsの略で、単語の文脈を使って単語を予測するモデル\n",
        "model = word2vec.CBOW(vocab.vocab_size, embedding_dim)\n",
        "\n",
        "# 最適化モジュール\n",
        "# optimizerは、最適化アルゴリズムを選択するためのモジュール\n",
        "# Adamは、最適化アルゴリズムの一つで、勾配降下法をベースにしている\n",
        "# 勾配降下法は、損失関数の最小値を求めるために、損失関数の勾配を使ってパラメータを更新するアルゴリズム\n",
        "optimizer = optim.Adam(model.parameters(), lr=learning_rate)"
      ]
    },
    {
      "cell_type": "code",
      "execution_count": null,
      "metadata": {
        "id": "aAlCQrsTJrEi"
      },
      "outputs": [],
      "source": [
        "# 語彙数の確認\n"
      ]
    },
    {
      "cell_type": "code",
      "execution_count": null,
      "metadata": {
        "id": "rCE9-83LwNAh"
      },
      "outputs": [
        {
          "data": {
            "text/html": [
              "\n",
              "  <style>\n",
              "    pre {\n",
              "        white-space: pre-wrap;\n",
              "    }\n",
              "  </style>\n",
              "  "
            ],
            "text/plain": [
              "<IPython.core.display.HTML object>"
            ]
          },
          "metadata": {},
          "output_type": "display_data"
        },
        {
          "data": {
            "text/plain": [
              "{'source': tensor([[  0,   0,   0],\n",
              "         [225,  48, 213],\n",
              "         [ 86,   8,   0],\n",
              "         [  0, 225,  48]]),\n",
              " 'target': tensor([  0,  11,   0, 217])}"
            ]
          },
          "execution_count": 19,
          "metadata": {},
          "output_type": "execute_result"
        }
      ],
      "source": [
        "# debug\n",
        "# 自分自身のデータをラベルとして利用する、自己教師あり学習\n",
        "# 文章のトークン化\n",
        "train_iter = iter(train_dataloader)\n",
        "next(train_iter)"
      ]
    },
    {
      "cell_type": "code",
      "execution_count": 20,
      "metadata": {
        "id": "T65y90Omr3_2"
      },
      "outputs": [
        {
          "data": {
            "text/html": [
              "\n",
              "  <style>\n",
              "    pre {\n",
              "        white-space: pre-wrap;\n",
              "    }\n",
              "  </style>\n",
              "  "
            ],
            "text/plain": [
              "<IPython.core.display.HTML object>"
            ]
          },
          "metadata": {},
          "output_type": "display_data"
        },
        {
          "name": "stdout",
          "output_type": "stream",
          "text": [
            "Epoch: 0, Loss: 5.0856\n",
            "cat and the : dog : <PAD>\n",
            "Epoch: 10, Loss: 2.7699\n",
            "quick brown cat : jumps : <PAD>\n",
            "Epoch: 20, Loss: 2.1981\n",
            "the dog perched : regally : .\n",
            "Epoch: 30, Loss: 1.7241\n",
            "cat stalked a : dust : dust\n",
            "Epoch: 40, Loss: 1.3503\n",
            "the dog out : from : .\n",
            "Epoch: 50, Loss: 1.0661\n",
            "the dog perched : regally : ,\n",
            "Epoch: 60, Loss: 0.8565\n",
            "buy more cat : food : food\n",
            "Epoch: 70, Loss: 0.7014\n",
            "this animal is : dog : cat\n",
            "Epoch: 80, Loss: 0.5891\n",
            "the old cat : hobbled : ,\n",
            "Epoch: 90, Loss: 0.5078\n",
            "the dog out : from : and\n",
            "Epoch: 100, Loss: 0.4490\n",
            "buy more cat : food : food\n",
            "Epoch: 110, Loss: 0.4079\n",
            "cat and dog : often : often\n",
            "Epoch: 120, Loss: 0.3786\n",
            "luna the cat : spent : regally\n",
            "Epoch: 130, Loss: 0.3577\n",
            "the dog out : from : and\n",
            "Epoch: 140, Loss: 0.3438\n",
            "the old cat : hobbled : dog\n",
            "Epoch: 150, Loss: 0.3334\n",
            "cat stalked a : dust : dust\n",
            "Epoch: 160, Loss: 0.3261\n",
            "cat and dog : often : often\n",
            "Epoch: 170, Loss: 0.3222\n",
            "the old cat : hobbled : dog\n",
            "Epoch: 180, Loss: 0.3181\n",
            "cat and the : dog : lazy\n",
            "Epoch: 190, Loss: 0.3155\n",
            "cat and the : dog : lazy\n",
            "Epoch: 200, Loss: 0.3148\n",
            "luna the cat : spent : park\n",
            "Epoch: 210, Loss: 0.3126\n",
            "cat and the : dog : lazy\n",
            "Epoch: 220, Loss: 0.3125\n",
            "and the dog : barks : cat\n",
            "Epoch: 230, Loss: 0.3105\n",
            "this animal is : dog : cat\n",
            "Epoch: 240, Loss: 0.3108\n",
            "quick brown cat : jumps : spotted\n",
            "Epoch: 250, Loss: 0.3102\n",
            "fido the cat : would : loves\n",
            "Epoch: 260, Loss: 0.3097\n",
            "cat stalked a : dust : dust\n",
            "Epoch: 270, Loss: 0.3097\n",
            "this animal is : dog : cat\n",
            "Epoch: 280, Loss: 0.3107\n",
            "cat and dog : often : are\n",
            "Epoch: 290, Loss: 0.3092\n",
            "the dog perched : regally : on\n"
          ]
        }
      ],
      "source": [
        "# @title 学習の実行\n",
        "for epoch in range(num_epoch):\n",
        "    total_loss = 0\n",
        "    running_loss = 0.0\n",
        "    for batch in train_dataloader:\n",
        "\n",
        "        # 入力データと教師データの取得\n",
        "        # soruce, targetには、上の通りトークン化された文章と次の単語が格納されている\n",
        "        context_indices, target_index = batch['source'], batch['target']\n",
        "        # 推論\n",
        "        output = model(context_indices)\n",
        "        # 損失計算\n",
        "        # criterionというオブジェクトを使って、推論した単語の確率分布と、正解の単語のインデックスを使って損失を計算する\n",
        "        loss = criterion(output, target_index)\n",
        "        \n",
        "        # 勾配の初期化\n",
        "        optimizer.zero_grad()\n",
        "        # 勾配の計算\n",
        "        loss.backward()\n",
        "        # 学習パラメータ（重み）の更新\n",
        "        optimizer.step()\n",
        "        # 損失の累計\n",
        "        running_loss += loss.item()\n",
        "\n",
        "    # 損失の平均\n",
        "    total_loss = running_loss / len(train_dataloader)\n",
        "\n",
        "    # n回に一度の処理\n",
        "    if epoch % 10 == 0:\n",
        "        # ログの出力\n",
        "        print(f'Epoch: {epoch}, Loss: {total_loss:.4f}')\n",
        "        # テスト\n",
        "        test_dataset.test(model)"
      ]
    },
    {
      "cell_type": "markdown",
      "metadata": {
        "id": "vBQv8KR8jBsd"
      },
      "source": [
        "# 評価"
      ]
    },
    {
      "cell_type": "code",
      "execution_count": 41,
      "metadata": {
        "id": "M_0m6ngcnJv3"
      },
      "outputs": [
        {
          "data": {
            "text/html": [
              "\n",
              "  <style>\n",
              "    pre {\n",
              "        white-space: pre-wrap;\n",
              "    }\n",
              "  </style>\n",
              "  "
            ],
            "text/plain": [
              "<IPython.core.display.HTML object>"
            ]
          },
          "metadata": {},
          "output_type": "display_data"
        },
        {
          "name": "stdout",
          "output_type": "stream",
          "text": [
            "the old cat : hobbled : dog\n"
          ]
        }
      ],
      "source": [
        "# 次の単語を予測\n",
        "test_dataset.test(model)"
      ]
    },
    {
      "cell_type": "code",
      "execution_count": null,
      "metadata": {
        "id": "dXxPRQCdqcKL"
      },
      "outputs": [
        {
          "data": {
            "text/html": [
              "\n",
              "  <style>\n",
              "    pre {\n",
              "        white-space: pre-wrap;\n",
              "    }\n",
              "  </style>\n",
              "  "
            ],
            "text/plain": [
              "<IPython.core.display.HTML object>"
            ]
          },
          "metadata": {},
          "output_type": "display_data"
        },
        {
          "data": {
            "text/plain": [
              "Parameter containing:\n",
              "tensor([[-3.0857,  0.7395, -0.4817,  ..., -0.6561, -0.5184,  1.4529],\n",
              "        [-1.3531,  0.4013,  0.6837,  ..., -0.0287, -0.5208,  0.3029],\n",
              "        [-0.7319, -0.3926, -0.2762,  ..., -1.3833, -0.4664, -0.1379],\n",
              "        ...,\n",
              "        [ 3.7932,  1.7007, -3.4961,  ...,  3.5891,  2.2103,  1.8853],\n",
              "        [ 4.4782,  4.3708,  1.0824,  ..., -0.9107,  2.8521,  3.8996],\n",
              "        [-0.0449, -3.7678, -0.5762,  ...,  1.3904, -2.9881,  4.0387]],\n",
              "       requires_grad=True)"
            ]
          },
          "execution_count": 42,
          "metadata": {},
          "output_type": "execute_result"
        }
      ],
      "source": [
        "# 重みの表示\n",
        "# 出力の１行１行が、１単語を表していて、行の中の要素のそれぞれが、何かしらの特徴を表している。\n",
        "model.embeddings.weight"
      ]
    }
  ],
  "metadata": {
    "colab": {
      "provenance": []
    },
    "kernelspec": {
      "display_name": ".venv",
      "language": "python",
      "name": "python3"
    },
    "language_info": {
      "codemirror_mode": {
        "name": "ipython",
        "version": 3
      },
      "file_extension": ".py",
      "mimetype": "text/x-python",
      "name": "python",
      "nbconvert_exporter": "python",
      "pygments_lexer": "ipython3",
      "version": "3.12.4"
    }
  },
  "nbformat": 4,
  "nbformat_minor": 0
}
