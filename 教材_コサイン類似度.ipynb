{
 "cells": [
  {
   "cell_type": "markdown",
   "metadata": {
    "id": "ZVoU47EWxhRG"
   },
   "source": [
    "# モジュールのインストール"
   ]
  },
  {
   "cell_type": "markdown",
   "metadata": {
    "id": "XDESEMA2JmIT"
   },
   "source": [
    "https://fasttext.cc/docs/en/english-vectors.html"
   ]
  },
  {
   "cell_type": "markdown",
   "metadata": {
    "id": "dMYaEWB0htxx"
   },
   "source": [
    "2017年版のWikipedia、UMBC ウェブベース コーパス、 statmt.org ニュースの データセット (16億トークン) で学習された 100 万単語のベクトルを利用します。"
   ]
  },
  {
   "cell_type": "code",
   "execution_count": 1,
   "metadata": {
    "cellView": "form",
    "id": "_YHZbqruJ1S1"
   },
   "outputs": [
    {
     "name": "stdout",
     "output_type": "stream",
     "text": [
      "--2025-03-28 16:58:19--  https://dl.fbaipublicfiles.com/fasttext/vectors-english/wiki-news-300d-1M.vec.zip\n",
      "dl.fbaipublicfiles.com (dl.fbaipublicfiles.com) をDNSに問いあわせています... 2600:9000:2828:5c00:13:6e38:acc0:93a1, 2600:9000:2828:1a00:13:6e38:acc0:93a1, 2600:9000:2828:f200:13:6e38:acc0:93a1, ...\n",
      "dl.fbaipublicfiles.com (dl.fbaipublicfiles.com)|2600:9000:2828:5c00:13:6e38:acc0:93a1|:443 に接続しています... 接続しました。\n",
      "HTTP による接続要求を送信しました、応答を待っています... 200 OK\n",
      "長さ: 681808098 (650M) [application/zip]\n",
      "`wiki-news-300d-1M.vec.zip' に保存中\n",
      "\n",
      "wiki-news-300d-1M.v 100%[===================>] 650.22M  25.3MB/s 時間 29s        \n",
      "\n",
      "2025-03-28 16:58:49 (22.6 MB/s) - `wiki-news-300d-1M.vec.zip' へ保存完了 [681808098/681808098]\n",
      "\n",
      "Archive:  wiki-news-300d-1M.vec.zip\n",
      "  inflating: wiki-news-300d-1M.vec   \n",
      "fatal: destination path 'whiteGPT' already exists and is not an empty directory.\n"
     ]
    }
   ],
   "source": [
    "#@title 学習済み埋め込みベクトルのダウンロード\n",
    "!wget https://dl.fbaipublicfiles.com/fasttext/vectors-english/wiki-news-300d-1M.vec.zip\n",
    "!unzip wiki-news-300d-1M.vec.zip\n",
    "!git clone https://github.com/Michi-123/whiteGPT"
   ]
  },
  {
   "cell_type": "code",
   "execution_count": 1,
   "metadata": {
    "id": "-ZnXccbc4UEi"
   },
   "outputs": [],
   "source": [
    "import numpy as np\n",
    "from matplotlib import pyplot as plt\n",
    "from whiteGPT import word2vec"
   ]
  },
  {
   "cell_type": "code",
   "execution_count": 2,
   "metadata": {
    "cellView": "form",
    "id": "ZAfWXAmfJrjY"
   },
   "outputs": [
    {
     "data": {
      "text/html": [
       "\n",
       "  <style>\n",
       "    pre {\n",
       "        white-space: pre-wrap;\n",
       "    }\n",
       "  </style>\n",
       "  "
      ],
      "text/plain": [
       "<IPython.core.display.HTML object>"
      ]
     },
     "metadata": {},
     "output_type": "display_data"
    }
   ],
   "source": [
    "# @markdown ベクトルの読み込み\n",
    "vec_file_path = 'wiki-news-300d-1M.vec' #@param{type:'string'}\n",
    "vectors = word2vec.load_vectors(vec_file_path)"
   ]
  },
  {
   "cell_type": "code",
   "execution_count": 3,
   "metadata": {
    "id": "uF8f7TdmMom4"
   },
   "outputs": [
    {
     "data": {
      "text/html": [
       "\n",
       "  <style>\n",
       "    pre {\n",
       "        white-space: pre-wrap;\n",
       "    }\n",
       "  </style>\n",
       "  "
      ],
      "text/plain": [
       "<IPython.core.display.HTML object>"
      ]
     },
     "metadata": {},
     "output_type": "display_data"
    },
    {
     "data": {
      "text/plain": [
       "array([-8.040e-02, -1.922e-01, -3.000e-04,  4.030e-02, -7.660e-02,\n",
       "       -1.380e-02,  1.816e-01, -1.410e-02, -3.410e-02,  4.620e-02,\n",
       "        1.583e-01, -1.650e-02, -4.960e-02, -1.444e-01,  5.600e-03,\n",
       "       -1.008e-01,  5.980e-02, -4.630e-02, -7.650e-02,  6.900e-03,\n",
       "       -1.139e-01, -4.300e-03,  8.360e-02, -6.390e-02,  1.218e-01,\n",
       "       -3.410e-02, -2.860e-02,  4.300e-03, -8.100e-03,  1.429e-01,\n",
       "       -6.200e-03, -1.041e-01,  2.440e-02, -2.800e-03, -1.483e-01,\n",
       "        1.600e-03,  4.870e-02,  9.700e-02, -5.680e-02,  3.390e-02,\n",
       "       -8.910e-02, -2.880e-02, -1.500e-02,  4.990e-02,  1.686e-01,\n",
       "        6.470e-02, -1.750e-02,  5.820e-02,  8.570e-02,  2.973e-01,\n",
       "       -6.380e-02,  8.300e-03, -6.145e-01, -1.868e-01, -5.430e-02,\n",
       "        2.930e-02, -4.000e-04,  1.270e-02, -1.500e-02, -7.280e-02,\n",
       "       -2.700e-02, -6.930e-02,  2.600e-02,  1.448e-01,  6.560e-02,\n",
       "        7.000e-02,  6.550e-02,  8.700e-03, -2.350e-02,  6.990e-02,\n",
       "       -1.510e-01, -8.290e-02, -1.106e-01, -8.140e-02, -1.827e-01,\n",
       "        5.550e-02, -2.070e-02,  1.400e-03, -2.670e-02, -1.689e-01,\n",
       "        2.230e-02, -6.420e-02,  1.181e-01, -1.882e-01, -8.570e-02,\n",
       "       -1.816e-01,  9.240e-02, -4.600e-03,  1.125e-01, -5.210e-02,\n",
       "       -1.138e-01,  4.350e-02, -5.000e-04, -8.660e-02,  1.300e-03,\n",
       "       -2.320e-02, -1.005e-01, -1.383e-01,  1.038e-01, -1.334e-01,\n",
       "       -1.978e-01,  3.900e-02, -1.730e-01,  2.878e-01,  3.460e-02,\n",
       "       -4.700e-03, -1.227e-01, -3.000e-03,  3.320e-02,  2.960e-02,\n",
       "       -1.390e-01, -5.990e-02, -1.249e-01, -8.790e-02, -8.760e-02,\n",
       "       -8.510e-02,  2.390e-02,  1.902e-01,  1.704e-01, -3.275e-01,\n",
       "        1.381e-01,  1.250e-01, -1.592e-01, -3.790e-02,  2.670e-02,\n",
       "        2.246e-01, -1.600e-03,  1.680e-02,  7.490e-02, -2.134e-01,\n",
       "        2.226e-01, -3.520e-02,  1.820e-02,  1.021e-01, -3.730e-02,\n",
       "        3.600e-03, -1.700e-02,  1.743e-01,  1.140e-02,  7.850e-02,\n",
       "        1.290e-02, -2.240e-02,  5.340e-02,  1.784e-01,  5.940e-02,\n",
       "       -3.890e-02,  1.007e-01,  1.069e-01, -1.930e-02, -1.142e-01,\n",
       "       -1.135e-01,  3.600e-03, -1.330e-02, -3.540e-02,  1.750e-02,\n",
       "        8.900e-03,  1.131e-01,  2.720e-02,  6.530e-02,  1.145e-01,\n",
       "        1.459e-01, -1.356e-01,  1.197e-01, -2.890e-02, -2.050e-02,\n",
       "        1.600e-03,  9.580e-02,  1.600e-03,  9.330e-02, -5.240e-02,\n",
       "       -4.600e-03, -3.480e-02,  2.980e-02, -1.815e-01,  2.353e-01,\n",
       "       -1.045e-01,  2.359e-01, -2.415e-01, -1.756e-01,  1.697e-01,\n",
       "       -4.630e-02,  7.990e-02,  2.430e-02,  6.200e-02,  3.270e-02,\n",
       "       -1.467e-01, -3.760e-02, -1.365e-01, -1.632e-01,  1.572e-01,\n",
       "        1.540e-02,  1.070e-02, -1.087e-01, -1.070e-02,  1.760e-02,\n",
       "        5.000e-03,  5.730e-02, -1.236e-01,  3.320e-02, -4.490e-02,\n",
       "       -7.700e-03, -2.970e-02, -7.600e-02, -4.870e-02, -1.410e-02,\n",
       "        5.430e-02,  2.270e-02, -6.830e-02,  5.260e-02, -5.900e-03,\n",
       "        1.820e-02, -8.020e-02, -4.000e-02, -4.040e-02,  1.400e-01,\n",
       "       -3.820e-02, -9.240e-02, -1.180e-01, -1.012e-01, -1.177e-01,\n",
       "        4.530e-02, -1.575e-01,  3.740e-02,  5.590e-02, -1.475e-01,\n",
       "       -2.679e-01, -7.500e-02, -1.380e-02,  7.800e-02, -1.273e-01,\n",
       "       -7.860e-02,  6.480e-02,  3.765e-01,  9.550e-02, -1.520e-01,\n",
       "       -1.310e-02, -9.580e-02,  4.470e-02, -2.084e-01, -1.640e-02,\n",
       "       -9.730e-02, -1.308e-01, -1.140e-02, -8.140e-02, -2.810e-02,\n",
       "        9.390e-02,  1.320e-02, -7.390e-02,  1.769e-01,  3.750e-01,\n",
       "       -8.490e-02,  1.046e-01, -8.660e-02, -1.223e-01, -1.073e-01,\n",
       "        1.204e-01,  1.158e-01,  1.460e-02, -1.729e-01, -2.435e-01,\n",
       "        4.070e-02,  6.140e-02,  8.300e-02,  9.640e-02, -3.332e-01,\n",
       "        1.127e-01,  2.600e-03,  2.310e-02, -1.713e-01, -2.230e-02,\n",
       "       -2.260e-02, -4.880e-02, -1.189e-01,  1.463e-01, -1.990e-02,\n",
       "       -3.610e-02,  1.107e-01,  6.800e-03, -1.021e-01, -5.700e-03,\n",
       "        7.900e-03,  1.910e-02,  3.540e-02,  8.270e-02,  3.940e-02,\n",
       "       -3.800e-02, -1.450e-02, -4.750e-02, -3.600e-02, -2.650e-02,\n",
       "       -6.710e-02, -7.140e-02, -9.210e-02,  2.400e-02, -1.539e-01,\n",
       "        3.370e-02,  3.120e-02,  7.880e-02,  7.750e-02, -4.120e-02])"
      ]
     },
     "execution_count": 3,
     "metadata": {},
     "output_type": "execute_result"
    }
   ],
   "source": [
    "# ベクトルの表示\n",
    "vectors['paper']"
   ]
  },
  {
   "cell_type": "code",
   "execution_count": 4,
   "metadata": {
    "id": "SvKPuJ7j4VtY"
   },
   "outputs": [
    {
     "data": {
      "text/html": [
       "\n",
       "  <style>\n",
       "    pre {\n",
       "        white-space: pre-wrap;\n",
       "    }\n",
       "  </style>\n",
       "  "
      ],
      "text/plain": [
       "<IPython.core.display.HTML object>"
      ]
     },
     "metadata": {},
     "output_type": "display_data"
    },
    {
     "data": {
      "text/plain": [
       "<BarContainer object of 300 artists>"
      ]
     },
     "execution_count": 4,
     "metadata": {},
     "output_type": "execute_result"
    },
    {
     "data": {
      "image/png": "[encoded data removed]",
      "text/plain": [
       "<Figure size 640x480 with 1 Axes>"
      ]
     },
     "metadata": {},
     "output_type": "display_data"
    }
   ],
   "source": [
    "# 埋め込みベクトルのグラフ\n",
    "# np.arangeは、指定した範囲の等差数列を生成する関数\n",
    "labels = np.arange(len(vectors['paper']))\n",
    "plt.bar(labels,  vectors['paper'])"
   ]
  },
  {
   "cell_type": "markdown",
   "metadata": {
    "id": "KoIni0r1RjtI"
   },
   "source": [
    "# コサイン類似度"
   ]
  },
  {
   "cell_type": "markdown",
   "metadata": {
    "id": "12QRDGgFbbW1"
   },
   "source": [
    "\n",
    "$$\n",
    "    {cosine\\_similarity}(A,B)=\n",
    "    \\frac{A⋅B}{||A||\\space||B||}\n",
    "​$$\n"
   ]
  },
  {
   "cell_type": "code",
   "execution_count": 5,
   "metadata": {
    "id": "MLQWuyd-Se30"
   },
   "outputs": [
    {
     "data": {
      "text/html": [
       "\n",
       "  <style>\n",
       "    pre {\n",
       "        white-space: pre-wrap;\n",
       "    }\n",
       "  </style>\n",
       "  "
      ],
      "text/plain": [
       "<IPython.core.display.HTML object>"
      ]
     },
     "metadata": {},
     "output_type": "display_data"
    }
   ],
   "source": [
    "# @title コサイン類似度の計算\n",
    "import numpy as np\n",
    "\n",
    "def cosine_similarity(vec1, vec2):\n",
    "    dot = np.dot(vec1, vec2)\n",
    "    # Linear algebra（線形代数）ライブラリの利用\n",
    "    norm1 = np.linalg.norm(vec1)\n",
    "    norm2 = np.linalg.norm(vec2)\n",
    "    norm = norm1 * norm2\n",
    "\n",
    "    similarity = dot / norm\n",
    "\n",
    "    return similarity"
   ]
  },
  {
   "cell_type": "code",
   "execution_count": 7,
   "metadata": {
    "id": "pE53gcRKUTVM"
   },
   "outputs": [
    {
     "data": {
      "text/html": [
       "\n",
       "  <style>\n",
       "    pre {\n",
       "        white-space: pre-wrap;\n",
       "    }\n",
       "  </style>\n",
       "  "
      ],
      "text/plain": [
       "<IPython.core.display.HTML object>"
      ]
     },
     "metadata": {},
     "output_type": "display_data"
    },
    {
     "name": "stdout",
     "output_type": "stream",
     "text": [
      "Cosine Similarity: -0.7142857142857143\n"
     ]
    }
   ],
   "source": [
    "# 適当なテスト用のベクトルを作成\n",
    "vector1 = np.array([0.1, 0.2, 0.3])\n",
    "vector2 = np.array([-0.3, -0.2, -0.1])\n",
    "\n",
    "# コサイン類似度の計算\n",
    "similarity = cosine_similarity(vector1, vector2)\n",
    "print(\"Cosine Similarity:\", similarity)"
   ]
  },
  {
   "cell_type": "code",
   "execution_count": 8,
   "metadata": {
    "id": "dHldxRkBUC9F"
   },
   "outputs": [
    {
     "data": {
      "text/html": [
       "\n",
       "  <style>\n",
       "    pre {\n",
       "        white-space: pre-wrap;\n",
       "    }\n",
       "  </style>\n",
       "  "
      ],
      "text/plain": [
       "<IPython.core.display.HTML object>"
      ]
     },
     "metadata": {},
     "output_type": "display_data"
    },
    {
     "data": {
      "text/plain": [
       "np.float64(0.6706167391468212)"
      ]
     },
     "execution_count": 8,
     "metadata": {},
     "output_type": "execute_result"
    }
   ],
   "source": [
    "vector1 = vectors['paper']\n",
    "vector2 = vectors['newspaper']\n",
    "cosine_similarity(vector1, vector2)"
   ]
  },
  {
   "cell_type": "markdown",
   "metadata": {
    "id": "E3sxDm_Zm6DX"
   },
   "source": [
    "近いベクトルを抽出"
   ]
  },
  {
   "cell_type": "code",
   "execution_count": 9,
   "metadata": {
    "id": "TmxnV8gzm6Nu"
   },
   "outputs": [
    {
     "data": {
      "text/html": [
       "\n",
       "  <style>\n",
       "    pre {\n",
       "        white-space: pre-wrap;\n",
       "    }\n",
       "  </style>\n",
       "  "
      ],
      "text/plain": [
       "<IPython.core.display.HTML object>"
      ]
     },
     "metadata": {},
     "output_type": "display_data"
    }
   ],
   "source": [
    "# 基準となるベクトルと他のベクトルとの類似度を調べます。\n",
    "vector1 = vectors['travel']\n",
    "\n",
    "similarities = []\n",
    "\n",
    "# keyとvalueを取得、items()は辞書のキーと値のペアを取得する\n",
    "# keyが単語で、vector2はその単語のベクトル\n",
    "for key, vector2 in vectors.items():\n",
    "    similarity = cosine_similarity(vector1, vector2)\n",
    "\n",
    "    # 類似度が0.6超のベクトルを収集\n",
    "    if similarity > 0.6 :\n",
    "        similarities.append([similarity, key])"
   ]
  },
  {
   "cell_type": "code",
   "execution_count": 10,
   "metadata": {
    "id": "W6ESb1Vtw2PK"
   },
   "outputs": [
    {
     "data": {
      "text/html": [
       "\n",
       "  <style>\n",
       "    pre {\n",
       "        white-space: pre-wrap;\n",
       "    }\n",
       "  </style>\n",
       "  "
      ],
      "text/plain": [
       "<IPython.core.display.HTML object>"
      ]
     },
     "metadata": {},
     "output_type": "display_data"
    },
    {
     "data": {
      "text/plain": [
       "10"
      ]
     },
     "execution_count": 10,
     "metadata": {},
     "output_type": "execute_result"
    }
   ],
   "source": [
    "# 収集したベクトルの数\n",
    "len(similarities)"
   ]
  },
  {
   "cell_type": "code",
   "execution_count": 11,
   "metadata": {
    "id": "6fVu9qXzw9Ix"
   },
   "outputs": [
    {
     "data": {
      "text/html": [
       "\n",
       "  <style>\n",
       "    pre {\n",
       "        white-space: pre-wrap;\n",
       "    }\n",
       "  </style>\n",
       "  "
      ],
      "text/plain": [
       "<IPython.core.display.HTML object>"
      ]
     },
     "metadata": {},
     "output_type": "display_data"
    }
   ],
   "source": [
    "# 類似度の降順で並べ替え\n",
    "similarities.sort(reverse=True)"
   ]
  },
  {
   "cell_type": "code",
   "execution_count": 12,
   "metadata": {
    "id": "JJn0LR4FvycG"
   },
   "outputs": [
    {
     "data": {
      "text/html": [
       "\n",
       "  <style>\n",
       "    pre {\n",
       "        white-space: pre-wrap;\n",
       "    }\n",
       "  </style>\n",
       "  "
      ],
      "text/plain": [
       "<IPython.core.display.HTML object>"
      ]
     },
     "metadata": {},
     "output_type": "display_data"
    },
    {
     "data": {
      "text/plain": [
       "[[np.float64(1.0), 'travel'],\n",
       " [np.float64(0.7603609554648687), 'traveling'],\n",
       " [np.float64(0.7347434884597058), 'travelling'],\n",
       " [np.float64(0.7255005534370906), 'Travel'],\n",
       " [np.float64(0.6882540914094872), 'travels'],\n",
       " [np.float64(0.6665211463234465), 'trip'],\n",
       " [np.float64(0.6391544957330976), 'trips'],\n",
       " [np.float64(0.6144248363104245), 'journeys'],\n",
       " [np.float64(0.6131116626102255), 'traveler'],\n",
       " [np.float64(0.6026881236192687), 'journey']]"
      ]
     },
     "execution_count": 12,
     "metadata": {},
     "output_type": "execute_result"
    }
   ],
   "source": [
    "# 先頭n件の表示\n",
    "similarities[:10]"
   ]
  },
  {
   "cell_type": "markdown",
   "metadata": {
    "id": "jU9lpAMRXdIe"
   },
   "source": [
    "# ベクトル空間の四則演算の例を確認します"
   ]
  },
  {
   "cell_type": "markdown",
   "metadata": {
    "id": "DGY_B7TD8bGK"
   },
   "source": [
    "王 - 男 + 女 = 女王？"
   ]
  },
  {
   "cell_type": "code",
   "execution_count": 13,
   "metadata": {
    "id": "hpB_YTa0wkFm"
   },
   "outputs": [
    {
     "data": {
      "text/html": [
       "\n",
       "  <style>\n",
       "    pre {\n",
       "        white-space: pre-wrap;\n",
       "    }\n",
       "  </style>\n",
       "  "
      ],
      "text/plain": [
       "<IPython.core.display.HTML object>"
      ]
     },
     "metadata": {},
     "output_type": "display_data"
    },
    {
     "data": {
      "text/plain": [
       "np.float64(0.767376699858979)"
      ]
     },
     "execution_count": 13,
     "metadata": {},
     "output_type": "execute_result"
    }
   ],
   "source": [
    "# king - man + woman\n",
    "king = vectors['king']\n",
    "queen = vectors['queen']\n",
    "man = vectors['man']\n",
    "woman = vectors['woman']\n",
    "cosine_similarity(king-man + woman, queen)"
   ]
  },
  {
   "cell_type": "markdown",
   "metadata": {
    "id": "nKUBVU7hwsXS"
   },
   "source": [
    "夏 - 暑い + 寒い = 冬？"
   ]
  },
  {
   "cell_type": "code",
   "execution_count": 14,
   "metadata": {
    "id": "uJh9xhA9zG1x"
   },
   "outputs": [
    {
     "data": {
      "text/html": [
       "\n",
       "  <style>\n",
       "    pre {\n",
       "        white-space: pre-wrap;\n",
       "    }\n",
       "  </style>\n",
       "  "
      ],
      "text/plain": [
       "<IPython.core.display.HTML object>"
      ]
     },
     "metadata": {},
     "output_type": "display_data"
    }
   ],
   "source": [
    "# 基準となるベクトル\n",
    "hot = vectors['hot']\n",
    "cold = vectors['cold']\n",
    "summer = vectors['summer']\n",
    "winter = vectors['winter']"
   ]
  },
  {
   "cell_type": "code",
   "execution_count": 15,
   "metadata": {
    "id": "iAxHsa6Nzfx8"
   },
   "outputs": [
    {
     "data": {
      "text/html": [
       "\n",
       "  <style>\n",
       "    pre {\n",
       "        white-space: pre-wrap;\n",
       "    }\n",
       "  </style>\n",
       "  "
      ],
      "text/plain": [
       "<IPython.core.display.HTML object>"
      ]
     },
     "metadata": {},
     "output_type": "display_data"
    },
    {
     "data": {
      "text/plain": [
       "np.float64(0.7127844651783529)"
      ]
     },
     "execution_count": 15,
     "metadata": {},
     "output_type": "execute_result"
    }
   ],
   "source": [
    "# hot と cold\n",
    "cosine_similarity(hot, cold)"
   ]
  },
  {
   "cell_type": "code",
   "execution_count": 16,
   "metadata": {
    "id": "2cVqZPJAEerM"
   },
   "outputs": [
    {
     "data": {
      "text/html": [
       "\n",
       "  <style>\n",
       "    pre {\n",
       "        white-space: pre-wrap;\n",
       "    }\n",
       "  </style>\n",
       "  "
      ],
      "text/plain": [
       "<IPython.core.display.HTML object>"
      ]
     },
     "metadata": {},
     "output_type": "display_data"
    },
    {
     "data": {
      "text/plain": [
       "np.float64(0.48384715736855355)"
      ]
     },
     "execution_count": 16,
     "metadata": {},
     "output_type": "execute_result"
    }
   ],
   "source": [
    "# hot と summer\n",
    "cosine_similarity(hot, summer)"
   ]
  },
  {
   "cell_type": "code",
   "execution_count": 17,
   "metadata": {
    "id": "AFSlMXbBakYH"
   },
   "outputs": [
    {
     "data": {
      "text/html": [
       "\n",
       "  <style>\n",
       "    pre {\n",
       "        white-space: pre-wrap;\n",
       "    }\n",
       "  </style>\n",
       "  "
      ],
      "text/plain": [
       "<IPython.core.display.HTML object>"
      ]
     },
     "metadata": {},
     "output_type": "display_data"
    },
    {
     "data": {
      "text/plain": [
       "np.float64(0.8376738582256028)"
      ]
     },
     "execution_count": 17,
     "metadata": {},
     "output_type": "execute_result"
    }
   ],
   "source": [
    "# summer と winter\n",
    "cosine_similarity(summer, winter)"
   ]
  },
  {
   "cell_type": "code",
   "execution_count": 18,
   "metadata": {
    "id": "bw73i5eBa8CQ"
   },
   "outputs": [
    {
     "data": {
      "text/html": [
       "\n",
       "  <style>\n",
       "    pre {\n",
       "        white-space: pre-wrap;\n",
       "    }\n",
       "  </style>\n",
       "  "
      ],
      "text/plain": [
       "<IPython.core.display.HTML object>"
      ]
     },
     "metadata": {},
     "output_type": "display_data"
    },
    {
     "data": {
      "text/plain": [
       "np.float64(0.7816870725903827)"
      ]
     },
     "execution_count": 18,
     "metadata": {},
     "output_type": "execute_result"
    }
   ],
   "source": [
    "# (summer - hot + cold)と winter\n",
    "cosine_similarity(summer - hot + cold, winter)"
   ]
  },
  {
   "cell_type": "code",
   "execution_count": 20,
   "metadata": {
    "id": "yd3Xb0fL5HOj"
   },
   "outputs": [
    {
     "data": {
      "text/html": [
       "\n",
       "  <style>\n",
       "    pre {\n",
       "        white-space: pre-wrap;\n",
       "    }\n",
       "  </style>\n",
       "  "
      ],
      "text/plain": [
       "<IPython.core.display.HTML object>"
      ]
     },
     "metadata": {},
     "output_type": "display_data"
    },
    {
     "data": {
      "text/plain": [
       "<BarContainer object of 300 artists>"
      ]
     },
     "execution_count": 20,
     "metadata": {},
     "output_type": "execute_result"
    },
    {
     "data": {
      "image/png": "[encoded data removed]",
      "text/plain": [
       "<Figure size 640x480 with 1 Axes>"
      ]
     },
     "metadata": {},
     "output_type": "display_data"
    }
   ],
   "source": [
    "# `hot`ベクトルとは\n",
    "labels = np.arange(300)\n",
    "plt.bar(labels, hot)"
   ]
  },
  {
   "cell_type": "code",
   "execution_count": 21,
   "metadata": {
    "id": "11fl7j0h9jYH"
   },
   "outputs": [
    {
     "data": {
      "text/html": [
       "\n",
       "  <style>\n",
       "    pre {\n",
       "        white-space: pre-wrap;\n",
       "    }\n",
       "  </style>\n",
       "  "
      ],
      "text/plain": [
       "<IPython.core.display.HTML object>"
      ]
     },
     "metadata": {},
     "output_type": "display_data"
    }
   ],
   "source": [
    "#@title 特徴ベクトルの作成\n",
    "def create_feature_vectors(vectors, keys):\n",
    "\n",
    "    #300の特徴ベクトルを初期化\n",
    "    feature_vectors = np.zeros(300)\n",
    "\n",
    "    for key in keys:\n",
    "        feature_vectors += vectors[key]\n",
    "\n",
    "    feature_vectors /= len(keys)\n",
    "\n",
    "    return feature_vectors"
   ]
  },
  {
   "cell_type": "code",
   "execution_count": 25,
   "metadata": {
    "id": "W06QCcu0n1Hz"
   },
   "outputs": [
    {
     "data": {
      "text/html": [
       "\n",
       "  <style>\n",
       "    pre {\n",
       "        white-space: pre-wrap;\n",
       "    }\n",
       "  </style>\n",
       "  "
      ],
      "text/plain": [
       "<IPython.core.display.HTML object>"
      ]
     },
     "metadata": {},
     "output_type": "display_data"
    }
   ],
   "source": [
    "#@title 暑さの特徴ベクトルを見つける\n",
    "\n",
    "# 暑い（熱い）単語\n",
    "keys_hot = ['hot', 'boiling', 'beach','heat', 'August', 'burn','swimming']\n",
    "\n",
    "# 寒い（冷たい）単語\n",
    "keys_cold = ['cold', 'ice', 'winter', 'frozen', 'water','snow', 'coat','skiing']\n",
    "\n",
    "# 特徴ベクトルの作成\n",
    "feature_hot = create_feature_vectors(vectors, keys_hot)\n",
    "feature_cold = create_feature_vectors(vectors, keys_cold)"
   ]
  },
  {
   "cell_type": "code",
   "execution_count": 26,
   "metadata": {
    "id": "YVQLqTauVdjC"
   },
   "outputs": [
    {
     "data": {
      "text/html": [
       "\n",
       "  <style>\n",
       "    pre {\n",
       "        white-space: pre-wrap;\n",
       "    }\n",
       "  </style>\n",
       "  "
      ],
      "text/plain": [
       "<IPython.core.display.HTML object>"
      ]
     },
     "metadata": {},
     "output_type": "display_data"
    },
    {
     "data": {
      "text/plain": [
       "np.float64(0.8831522640795195)"
      ]
     },
     "execution_count": 26,
     "metadata": {},
     "output_type": "execute_result"
    }
   ],
   "source": [
    "# (summer - 暑さの特徴 + 寒さの特徴)と winter\n",
    "cosine_similarity(summer - feature_hot + feature_cold, winter)"
   ]
  },
  {
   "cell_type": "code",
   "execution_count": 27,
   "metadata": {
    "id": "qWEO7ZGuijUN"
   },
   "outputs": [
    {
     "data": {
      "text/html": [
       "\n",
       "  <style>\n",
       "    pre {\n",
       "        white-space: pre-wrap;\n",
       "    }\n",
       "  </style>\n",
       "  "
      ],
      "text/plain": [
       "<IPython.core.display.HTML object>"
      ]
     },
     "metadata": {},
     "output_type": "display_data"
    }
   ],
   "source": [
    "# 温度の特徴ベクトル\n",
    "temperature = feature_hot - feature_cold"
   ]
  },
  {
   "cell_type": "code",
   "execution_count": 28,
   "metadata": {
    "id": "cRYHwGXM0pnI"
   },
   "outputs": [
    {
     "data": {
      "text/html": [
       "\n",
       "  <style>\n",
       "    pre {\n",
       "        white-space: pre-wrap;\n",
       "    }\n",
       "  </style>\n",
       "  "
      ],
      "text/plain": [
       "<IPython.core.display.HTML object>"
      ]
     },
     "metadata": {},
     "output_type": "display_data"
    },
    {
     "data": {
      "text/plain": [
       "np.float64(0.1443578250646571)"
      ]
     },
     "execution_count": 28,
     "metadata": {},
     "output_type": "execute_result"
    }
   ],
   "source": [
    "# 本来の暑さとの関係はない（直交ベクトル）\n",
    "cosine_similarity(temperature, hot)"
   ]
  },
  {
   "cell_type": "code",
   "execution_count": 29,
   "metadata": {
    "id": "rnZMPx_zGXFF"
   },
   "outputs": [
    {
     "data": {
      "text/html": [
       "\n",
       "  <style>\n",
       "    pre {\n",
       "        white-space: pre-wrap;\n",
       "    }\n",
       "  </style>\n",
       "  "
      ],
      "text/plain": [
       "<IPython.core.display.HTML object>"
      ]
     },
     "metadata": {},
     "output_type": "display_data"
    },
    {
     "data": {
      "text/plain": [
       "<BarContainer object of 300 artists>"
      ]
     },
     "execution_count": 29,
     "metadata": {},
     "output_type": "execute_result"
    },
    {
     "data": {
      "image/png": "[encoded data removed]",
      "text/plain": [
       "<Figure size 640x480 with 1 Axes>"
      ]
     },
     "metadata": {},
     "output_type": "display_data"
    }
   ],
   "source": [
    "# 温度の特徴ベクトルを可視化\n",
    "labels = np.arange(300)\n",
    "plt.bar(labels, temperature)"
   ]
  },
  {
   "cell_type": "code",
   "execution_count": 35,
   "metadata": {
    "id": "gH6WKzztPkp4"
   },
   "outputs": [
    {
     "data": {
      "text/html": [
       "\n",
       "  <style>\n",
       "    pre {\n",
       "        white-space: pre-wrap;\n",
       "    }\n",
       "  </style>\n",
       "  "
      ],
      "text/plain": [
       "<IPython.core.display.HTML object>"
      ]
     },
     "metadata": {},
     "output_type": "display_data"
    },
    {
     "name": "stdout",
     "output_type": "stream",
     "text": [
      "0.7628214607250631\n",
      "0.8578857169378056\n"
     ]
    }
   ],
   "source": [
    "# @title 練習\n",
    "# king - man + woman = queen になるように、特徴ベクトルを見つけてみましょう\n",
    "\n",
    "# 男性の特徴\n",
    "keys_man = ['man', 'strong', 'men', 'power', 'cool', 'violent', 'brave', 'handsome']\n",
    "# 女性の特徴\n",
    "keys_woman = ['woman', 'beautiful', 'cute', 'lovely', 'kind', 'gentle', 'sweet']\n",
    "\n",
    "# 特徴ベクトルの作成\n",
    "feature_man = create_feature_vectors(vectors, keys_man)\n",
    "feature_woman = create_feature_vectors(vectors, keys_woman)\n",
    "\n",
    "father = vectors['father']\n",
    "mother = vectors['mother']\n",
    "\n",
    "# コサイン類似度\n",
    "print(cosine_similarity(king - feature_man + feature_woman, queen))\n",
    "print(cosine_similarity(father - feature_man + feature_woman, mother))"
   ]
  },
  {
   "cell_type": "code",
   "execution_count": null,
   "metadata": {
    "cellView": "form",
    "id": "Fneqt65N8Qj6"
   },
   "outputs": [],
   "source": [
    "# @title king - man + woman の例\n",
    "king = vectors['king']\n",
    "queen = vectors['queen']\n",
    "\n",
    "# 男性の特徴\n",
    "keys_man = ['male','boy','father','brother','beard','prince']\n",
    "feature_man = create_feature_vectors(vectors, keys_man)\n",
    "\n",
    "# 女性の特徴\n",
    "keys_woman = ['female','girl','mother','sister','hair','princess']\n",
    "feature_woman = create_feature_vectors(vectors, keys_woman)\n",
    "\n",
    "cosine_similarity(king - feature_man + feature_woman*1.0, queen)"
   ]
  },
  {
   "cell_type": "markdown",
   "metadata": {
    "id": "hJ2GjpwjylmS"
   },
   "source": [
    "# 同じキーを取り出せるか？"
   ]
  },
  {
   "cell_type": "code",
   "execution_count": 36,
   "metadata": {
    "id": "_v_WbICklHCc"
   },
   "outputs": [
    {
     "data": {
      "text/html": [
       "\n",
       "  <style>\n",
       "    pre {\n",
       "        white-space: pre-wrap;\n",
       "    }\n",
       "  </style>\n",
       "  "
      ],
      "text/plain": [
       "<IPython.core.display.HTML object>"
      ]
     },
     "metadata": {},
     "output_type": "display_data"
    }
   ],
   "source": [
    "# @title 類似する項目の検索\n",
    "def search_similar_item(vectors, reference_vector):\n",
    "    # 初期化\n",
    "    max_similar_key = None # 最大の類似キー\n",
    "    max_similarity = -float('inf')  # 最大の類似度\n",
    "    similarity_list = {} # 類似度の一覧\n",
    "\n",
    "    # 全てのベクトルに対して、reference_vectorとの類似度を算出します\n",
    "    # enumerateは、ループしながらインデックスも取得できる\n",
    "    # vectorsは辞書型なので、keyとvalueを取得\n",
    "    for i, key in enumerate(vectors):\n",
    "\n",
    "        # コサイン類似度の算出\n",
    "        # vectors[key]は、key(単語)に対応するベクトル\n",
    "        similarity = cosine_similarity(reference_vector, vectors[key])\n",
    "\n",
    "        # 類似度が0.6を超えたら、類似度リストに追加\n",
    "        if similarity > 0.6: # 閾値\n",
    "            similarity_list[key] = similarity\n",
    "\n",
    "        # 最大値の更新\n",
    "        if max_similarity < similarity:\n",
    "            max_similarity = similarity\n",
    "            max_similar_key = key\n",
    "\n",
    "    return max_similar_key, max_similarity, similarity_list"
   ]
  },
  {
   "cell_type": "code",
   "execution_count": 39,
   "metadata": {
    "id": "J6FuGkl6Ma_h"
   },
   "outputs": [
    {
     "data": {
      "text/html": [
       "\n",
       "  <style>\n",
       "    pre {\n",
       "        white-space: pre-wrap;\n",
       "    }\n",
       "  </style>\n",
       "  "
      ],
      "text/plain": [
       "<IPython.core.display.HTML object>"
      ]
     },
     "metadata": {},
     "output_type": "display_data"
    },
    {
     "data": {
      "text/plain": [
       "-inf"
      ]
     },
     "execution_count": 39,
     "metadata": {},
     "output_type": "execute_result"
    }
   ],
   "source": [
    "-float('inf' ) + 100000 # 何を足してもマイナス"
   ]
  },
  {
   "cell_type": "code",
   "execution_count": 40,
   "metadata": {
    "id": "4M_3ozNtqkJZ"
   },
   "outputs": [
    {
     "data": {
      "text/html": [
       "\n",
       "  <style>\n",
       "    pre {\n",
       "        white-space: pre-wrap;\n",
       "    }\n",
       "  </style>\n",
       "  "
      ],
      "text/plain": [
       "<IPython.core.display.HTML object>"
      ]
     },
     "metadata": {},
     "output_type": "display_data"
    }
   ],
   "source": [
    "# summer - feature_hot + feature_cold\n",
    "reference_vector = summer - feature_hot + feature_cold\n",
    "key, similarity, similarity_list = search_similar_item(vectors, reference_vector)"
   ]
  },
  {
   "cell_type": "code",
   "execution_count": 41,
   "metadata": {},
   "outputs": [
    {
     "data": {
      "text/html": [
       "\n",
       "  <style>\n",
       "    pre {\n",
       "        white-space: pre-wrap;\n",
       "    }\n",
       "  </style>\n",
       "  "
      ],
      "text/plain": [
       "<IPython.core.display.HTML object>"
      ]
     },
     "metadata": {},
     "output_type": "display_data"
    },
    {
     "data": {
      "text/plain": [
       "'winter'"
      ]
     },
     "execution_count": 41,
     "metadata": {},
     "output_type": "execute_result"
    }
   ],
   "source": [
    "key"
   ]
  },
  {
   "cell_type": "code",
   "execution_count": 42,
   "metadata": {
    "id": "Mdc5GP-5oIow"
   },
   "outputs": [
    {
     "data": {
      "text/html": [
       "\n",
       "  <style>\n",
       "    pre {\n",
       "        white-space: pre-wrap;\n",
       "    }\n",
       "  </style>\n",
       "  "
      ],
      "text/plain": [
       "<IPython.core.display.HTML object>"
      ]
     },
     "metadata": {},
     "output_type": "display_data"
    }
   ],
   "source": [
    "# king - feature_man + feature_woman\n",
    "reference_vector = king - feature_man + feature_woman\n",
    "key, similarity, similarity_list = search_similar_item(vectors, reference_vector)"
   ]
  },
  {
   "cell_type": "code",
   "execution_count": 43,
   "metadata": {},
   "outputs": [
    {
     "data": {
      "text/html": [
       "\n",
       "  <style>\n",
       "    pre {\n",
       "        white-space: pre-wrap;\n",
       "    }\n",
       "  </style>\n",
       "  "
      ],
      "text/plain": [
       "<IPython.core.display.HTML object>"
      ]
     },
     "metadata": {},
     "output_type": "display_data"
    },
    {
     "data": {
      "text/plain": [
       "'king'"
      ]
     },
     "execution_count": 43,
     "metadata": {},
     "output_type": "execute_result"
    }
   ],
   "source": [
    "key"
   ]
  },
  {
   "cell_type": "code",
   "execution_count": 44,
   "metadata": {},
   "outputs": [
    {
     "data": {
      "text/html": [
       "\n",
       "  <style>\n",
       "    pre {\n",
       "        white-space: pre-wrap;\n",
       "    }\n",
       "  </style>\n",
       "  "
      ],
      "text/plain": [
       "<IPython.core.display.HTML object>"
      ]
     },
     "metadata": {},
     "output_type": "display_data"
    },
    {
     "data": {
      "text/plain": [
       "{'King': np.float64(0.6601657123171506),\n",
       " 'king': np.float64(0.9135121091656809),\n",
       " 'royal': np.float64(0.6495270002012574),\n",
       " 'kingdom': np.float64(0.661323076115282),\n",
       " 'lady': np.float64(0.6039287028138423),\n",
       " 'queen': np.float64(0.7628214607250631),\n",
       " 'prince': np.float64(0.6731057556102591),\n",
       " 'kings': np.float64(0.7252146514978232),\n",
       " 'ruler': np.float64(0.6087825462159456),\n",
       " 'monarch': np.float64(0.6892699384191332),\n",
       " 'emperor': np.float64(0.6039873417293253),\n",
       " 'princess': np.float64(0.6873284754190592)}"
      ]
     },
     "execution_count": 44,
     "metadata": {},
     "output_type": "execute_result"
    }
   ],
   "source": [
    "similarity_list"
   ]
  },
  {
   "cell_type": "markdown",
   "metadata": {
    "id": "zjevKjz1xFix"
   },
   "source": [
    "# 地名で検証"
   ]
  },
  {
   "cell_type": "code",
   "execution_count": 46,
   "metadata": {
    "id": "FWNkbs1CxJZw"
   },
   "outputs": [
    {
     "data": {
      "text/html": [
       "\n",
       "  <style>\n",
       "    pre {\n",
       "        white-space: pre-wrap;\n",
       "    }\n",
       "  </style>\n",
       "  "
      ],
      "text/plain": [
       "<IPython.core.display.HTML object>"
      ]
     },
     "metadata": {},
     "output_type": "display_data"
    }
   ],
   "source": [
    "tokyo  = vectors['Tokyo']\n",
    "france = vectors['France']\n",
    "paris = vectors['Paris']\n",
    "japan = vectors['Japan']"
   ]
  },
  {
   "cell_type": "code",
   "execution_count": 47,
   "metadata": {
    "id": "emhKpE3txOXG"
   },
   "outputs": [
    {
     "data": {
      "text/html": [
       "\n",
       "  <style>\n",
       "    pre {\n",
       "        white-space: pre-wrap;\n",
       "    }\n",
       "  </style>\n",
       "  "
      ],
      "text/plain": [
       "<IPython.core.display.HTML object>"
      ]
     },
     "metadata": {},
     "output_type": "display_data"
    },
    {
     "data": {
      "text/plain": [
       "np.float64(0.8581427034450735)"
      ]
     },
     "execution_count": 47,
     "metadata": {},
     "output_type": "execute_result"
    }
   ],
   "source": [
    "# コサイン類似度\n",
    "cosine_similarity(tokyo - japan + france, paris)"
   ]
  },
  {
   "cell_type": "code",
   "execution_count": 48,
   "metadata": {
    "id": "UzO4qSEtxlWe"
   },
   "outputs": [
    {
     "data": {
      "text/html": [
       "\n",
       "  <style>\n",
       "    pre {\n",
       "        white-space: pre-wrap;\n",
       "    }\n",
       "  </style>\n",
       "  "
      ],
      "text/plain": [
       "<IPython.core.display.HTML object>"
      ]
     },
     "metadata": {},
     "output_type": "display_data"
    }
   ],
   "source": [
    "# tokyo - japan + france, paris\n",
    "reference_vector = tokyo - japan + france\n",
    "key, similarity, similarity_list = search_similar_item(vectors, reference_vector)"
   ]
  },
  {
   "cell_type": "code",
   "execution_count": 49,
   "metadata": {
    "id": "NTZcAi5wxyj2"
   },
   "outputs": [
    {
     "data": {
      "text/html": [
       "\n",
       "  <style>\n",
       "    pre {\n",
       "        white-space: pre-wrap;\n",
       "    }\n",
       "  </style>\n",
       "  "
      ],
      "text/plain": [
       "<IPython.core.display.HTML object>"
      ]
     },
     "metadata": {},
     "output_type": "display_data"
    },
    {
     "data": {
      "text/plain": [
       "'Paris'"
      ]
     },
     "execution_count": 49,
     "metadata": {},
     "output_type": "execute_result"
    }
   ],
   "source": [
    "key"
   ]
  },
  {
   "cell_type": "code",
   "execution_count": 50,
   "metadata": {},
   "outputs": [
    {
     "data": {
      "text/html": [
       "\n",
       "  <style>\n",
       "    pre {\n",
       "        white-space: pre-wrap;\n",
       "    }\n",
       "  </style>\n",
       "  "
      ],
      "text/plain": [
       "<IPython.core.display.HTML object>"
      ]
     },
     "metadata": {},
     "output_type": "display_data"
    },
    {
     "data": {
      "text/plain": [
       "np.float64(0.8581427034450735)"
      ]
     },
     "execution_count": 50,
     "metadata": {},
     "output_type": "execute_result"
    }
   ],
   "source": [
    "similarity"
   ]
  },
  {
   "cell_type": "code",
   "execution_count": 51,
   "metadata": {},
   "outputs": [
    {
     "data": {
      "text/html": [
       "\n",
       "  <style>\n",
       "    pre {\n",
       "        white-space: pre-wrap;\n",
       "    }\n",
       "  </style>\n",
       "  "
      ],
      "text/plain": [
       "<IPython.core.display.HTML object>"
      ]
     },
     "metadata": {},
     "output_type": "display_data"
    },
    {
     "data": {
      "text/plain": [
       "{'London': np.float64(0.6492047855513082),\n",
       " 'France': np.float64(0.7769600992651915),\n",
       " 'Paris': np.float64(0.8581427034450735),\n",
       " 'Moscow': np.float64(0.6188102119469615),\n",
       " 'Tokyo': np.float64(0.7074563706580036),\n",
       " 'Madrid': np.float64(0.6197539955434833),\n",
       " 'Brussels': np.float64(0.6365837658519496),\n",
       " 'Lyon': np.float64(0.6317532344056058),\n",
       " 'Bordeaux': np.float64(0.6409008598843251),\n",
       " 'Marseille': np.float64(0.6422051102056436),\n",
       " 'Toulouse': np.float64(0.662686424583182),\n",
       " 'Strasbourg': np.float64(0.6166382004080777)}"
      ]
     },
     "execution_count": 51,
     "metadata": {},
     "output_type": "execute_result"
    }
   ],
   "source": [
    "similarity_list"
   ]
  },
  {
   "cell_type": "code",
   "execution_count": null,
   "metadata": {},
   "outputs": [],
   "source": []
  }
 ],
 "metadata": {
  "colab": {
   "authorship_tag": "ABX9TyNAdQM8WdqhJgXJ/r3PQTQZ",
   "collapsed_sections": [
    "ZVoU47EWxhRG",
    "KoIni0r1RjtI",
    "jU9lpAMRXdIe",
    "hJ2GjpwjylmS",
    "zjevKjz1xFix"
   ],
   "provenance": []
  },
  "kernelspec": {
   "display_name": ".venv",
   "language": "python",
   "name": "python3"
  },
  "language_info": {
   "codemirror_mode": {
    "name": "ipython",
    "version": 3
   },
   "file_extension": ".py",
   "mimetype": "text/x-python",
   "name": "python",
   "nbconvert_exporter": "python",
   "pygments_lexer": "ipython3",
   "version": "3.12.4"
  }
 },
 "nbformat": 4,
 "nbformat_minor": 0
}
